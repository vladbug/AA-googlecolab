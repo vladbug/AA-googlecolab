{
  "cells": [
    {
      "cell_type": "markdown",
      "metadata": {
        "id": "view-in-github",
        "colab_type": "text"
      },
      "source": [
        "<a href=\"https://colab.research.google.com/github/vladbug/AA-googlecolab/blob/main/LinearRegression_ML.ipynb\" target=\"_parent\"><img src=\"https://colab.research.google.com/assets/colab-badge.svg\" alt=\"Open In Colab\"/></a>"
      ]
    },
    {
      "cell_type": "markdown",
      "metadata": {
        "id": "2mEttoYTWb3I"
      },
      "source": [
        "# Linear regression\n",
        "\n",
        "The goal of this exercise is to implement the linear regression method seen in the course.\n",
        "\n",
        "Please copy this notebook to your Google account or download it as a Jupyter Notebook.\n",
        "\n",
        "We start by importing numpy and matplotlib."
      ]
    },
    {
      "cell_type": "code",
      "execution_count": 1,
      "metadata": {
        "id": "ffgw_jqQWb3J"
      },
      "outputs": [],
      "source": [
        "import numpy as np\n",
        "import matplotlib.pyplot as plt"
      ]
    },
    {
      "cell_type": "markdown",
      "metadata": {
        "id": "Gsge4nk6Wb3J"
      },
      "source": [
        "## Minimize the mean squared error\n",
        "\n",
        "To generate the data for the exercise, we will use the `scikit-learn` library <https://scikit-learn.org>. It provides a huge selection of already implemented machine learning algorithms for classification, regression or clustering.\n",
        "\n",
        "If you use Anaconda or Colab, `scikit-learn` should already be installed. Otherwise, install it with `pip` (you may need to restart this notebook afterwards):\n",
        "\n",
        "```\n",
        "pip install scikit-learn\n",
        "```\n",
        "\n",
        "We will use the method `sklearn.datasets.make_regression` to generate the data. The documentation of this method is available at <https://scikit-learn.org/stable/modules/generated/sklearn.datasets.make_regression.html>.\n",
        "\n",
        "The following cell imports the method:"
      ]
    },
    {
      "cell_type": "code",
      "execution_count": null,
      "metadata": {
        "id": "ulcS01RFWb3J"
      },
      "outputs": [],
      "source": [
        "from sklearn.datasets import make_regression"
      ]
    },
    {
      "cell_type": "markdown",
      "metadata": {
        "id": "6fcSupwBWb3J"
      },
      "source": [
        "We can now generate the data. We start with the simplest case where the inputs have only one dimension. We will generate 100 samples$(x_i, t_i)$ linked by a linear relationship and some noise.\n",
        "\n",
        "The following code generates the data:"
      ]
    },
    {
      "cell_type": "code",
      "execution_count": null,
      "metadata": {
        "id": "eQ-iA-WgWb3J"
      },
      "outputs": [],
      "source": [
        "N = 100\n",
        "X, t = make_regression(n_samples=N, n_features=1, noise=15.0)"
      ]
    },
    {
      "cell_type": "markdown",
      "metadata": {
        "id": "k7sRlL_kWb3J"
      },
      "source": [
        "`n_samples` is the number of samples generates, `n_features` is the number of input variables and `noise` quantifies how the points deviate from the linear relationship.\n",
        "\n",
        "**Q:** Print the shape of the arrays `X` and `t` to better understand what is generated. Visualize the dataset using matplotlib (`plt.scatter`). Vary the value of the `noise` argument in the previous cell and visualize the data again."
      ]
    },
    {
      "cell_type": "code",
      "execution_count": null,
      "metadata": {
        "id": "dSikf19RWb3J"
      },
      "outputs": [],
      "source": []
    },
    {
      "cell_type": "markdown",
      "metadata": {
        "id": "5DGOLlsAWb3K"
      },
      "source": [
        "Now is the time to solve the Linear Regression problem with numpy.\n",
        "\n",
        "Remember the problem we need to solve:\n",
        "\n",
        "$$\\mathop{\\text{minimize} }_\\alpha \\|X\\alpha - y\\|^2$$\n",
        "\n",
        "where\n",
        "$X\\in \\mathbb{R}^{N \\times (d+1)}$ is the augmented data matrix such that each line $i$ is $x_i = (x_{i1} \\; 1)$, containing the features of example $i$.\n",
        "\n",
        "**Q:** Create matrix $X$ and vector $y$."
      ]
    },
    {
      "cell_type": "code",
      "source": [],
      "metadata": {
        "id": "H56RuuU8afQ8"
      },
      "execution_count": null,
      "outputs": []
    },
    {
      "cell_type": "markdown",
      "source": [
        "\n",
        "**Q:** Identify the optimization variable of the problem.\n",
        "\n",
        "This is a (convex) quadratic problem. To solve it, we simply differentiate it, obtaining the gradient, and equate the gradient to zero, obtaining\n",
        "\n",
        "$$ X^T(X\\alpha-y)=0.$$\n",
        "\n",
        "By solving this equation with respect to $w$ we get\n",
        "$$\\alpha = (X^TX)^{-1} X^Ty.$$\n",
        "\n",
        "In Numpy, check how to do matrix multiplication and how to compute the inverse of a matrix. Read the documentation of [pinv](https://numpy.org/doc/stable/reference/generated/numpy.linalg.pinv.html), [matmul](https://numpy.org/doc/stable/reference/generated/numpy.matmul.html) and [dot](https://numpy.org/doc/stable/reference/generated/numpy.dot.html) to start.\n",
        "\n",
        "\n",
        "**Q:** Using the above identity, compute the regression weights $\\alpha$.\n",
        "\n"
      ],
      "metadata": {
        "id": "NmCkKbyAac98"
      }
    },
    {
      "cell_type": "code",
      "execution_count": null,
      "metadata": {
        "id": "4DItyimfWb3K"
      },
      "outputs": [],
      "source": []
    },
    {
      "cell_type": "markdown",
      "metadata": {
        "id": "CUPTsmG6Wb3K"
      },
      "source": [
        "**Q:** Visualize the quality of the fit by superposing the learned model to the data with matplotlib.\n",
        "\n",
        "*Tip*: you can get the extreme values of the xaxis with `X.min()` and `X.max()`. To visualize the model, you just need to plot a line between the points `(X.min(), a[0]*X.min()+a[1])` and `(X.max(), a[0]*X.max()+a[1])`."
      ]
    },
    {
      "cell_type": "code",
      "execution_count": null,
      "metadata": {
        "id": "nJq2Bu6PWb3K"
      },
      "outputs": [],
      "source": []
    },
    {
      "cell_type": "markdown",
      "metadata": {
        "id": "GNNeNUwTWb3K"
      },
      "source": [
        "Another option is to predict a value for all inputs and plot this vector $\\hat{y}$ against the desired values $y$.\n",
        "\n",
        "**Q:** Make a scatter plot where $y$ is the x-axis and $\\hat{y} = \\alpha[0]\\, x + \\alpha[1]$ is the y-axis. How should the points be arranged in the ideal case? Also plot what this ideal relationship should be."
      ]
    },
    {
      "cell_type": "code",
      "execution_count": null,
      "metadata": {
        "id": "qpUuIPoEWb3K"
      },
      "outputs": [],
      "source": []
    },
    {
      "cell_type": "markdown",
      "metadata": {
        "id": "FF0cBZNTWb3K"
      },
      "source": []
    },
    {
      "cell_type": "markdown",
      "metadata": {
        "id": "BwrCPZsNWb3K"
      },
      "source": [
        "## Scikit-learn\n",
        "\n",
        "The code that you have written is functional, but extremely slow, as you use for loops in Python. For so little data samples, it does not make a difference, but if you had millions of samples, this would start to be a problem.\n",
        "\n",
        "The solution is to use optimized implementations of the algorithms, running in C++ or FORTRAN under the hood. We will use here the LMS algorithm provided by `scikit-learn` as you have already installed it and it is very simple to use. Note that one could use tensorflow too, but that would be killing a fly with a sledgehammer.\n",
        "\n",
        "`scikit-learn` provides a `LinearRegression` object that implements the training procedure above. The documentation is at: <https://scikit-learn.org/stable/modules/generated/sklearn.linear_model.LinearRegression.html>.\n",
        "\n",
        "You simply import it with:\n",
        "\n",
        "```python\n",
        "from sklearn.linear_model import LinearRegression\n",
        "```\n",
        "\n",
        "You create the object with:\n",
        "\n",
        "```python\n",
        "reg = LinearRegression()\n",
        "```\n",
        "\n",
        "`reg` is now an object with different methods (`fit()`, `predict()`) that accept any kind of data and performs linear regression.\n",
        "\n",
        "To train the model on the data $(X, y)$, simply use:\n",
        "\n",
        "```python\n",
        "reg.fit(X, y)\n",
        "```\n",
        "\n",
        "The parameters of the model are obtained with `reg.coef_` for $w[0]$ and `reg.intercept_` for $w[1]$.\n",
        "\n",
        "You can predict outputs for new inputs using:\n",
        "\n",
        "```python\n",
        "y = reg.predict(X)\n",
        "```\n",
        "\n",
        "**Q:** Apply linear regression on the data using `scikit-learn`. Check the model parameters after learning and compare them to what you obtained previously. Print the mse and make a plot comparing the predictions with the data."
      ]
    },
    {
      "cell_type": "code",
      "execution_count": null,
      "metadata": {
        "id": "XRcQNV0hWb3K"
      },
      "outputs": [],
      "source": []
    }
  ],
  "metadata": {
    "kernelspec": {
      "display_name": "Python 3",
      "language": "python",
      "name": "python3"
    },
    "language_info": {
      "codemirror_mode": {
        "name": "ipython",
        "version": 3
      },
      "file_extension": ".py",
      "mimetype": "text/x-python",
      "name": "python",
      "nbconvert_exporter": "python",
      "pygments_lexer": "ipython3",
      "version": "3.8.5"
    },
    "colab": {
      "provenance": [],
      "include_colab_link": true
    }
  },
  "nbformat": 4,
  "nbformat_minor": 0
}