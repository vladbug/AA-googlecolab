{
  "cells": [
    {
      "cell_type": "markdown",
      "metadata": {
        "id": "view-in-github",
        "colab_type": "text"
      },
      "source": [
        "<a href=\"https://colab.research.google.com/github/vladbug/AA-googlecolab/blob/main/LinearRegression_ML.ipynb\" target=\"_parent\"><img src=\"https://colab.research.google.com/assets/colab-badge.svg\" alt=\"Open In Colab\"/></a>"
      ]
    },
    {
      "cell_type": "markdown",
      "metadata": {
        "id": "2mEttoYTWb3I"
      },
      "source": [
        "# Linear regression\n",
        "\n",
        "The goal of this exercise is to implement the linear regression method seen in the course.\n",
        "\n",
        "Please copy this notebook to your Google account or download it as a Jupyter Notebook.\n",
        "\n",
        "We start by importing numpy and matplotlib."
      ]
    },
    {
      "cell_type": "code",
      "execution_count": 1,
      "metadata": {
        "id": "ffgw_jqQWb3J"
      },
      "outputs": [],
      "source": [
        "import numpy as np\n",
        "import matplotlib.pyplot as plt"
      ]
    },
    {
      "cell_type": "markdown",
      "metadata": {
        "id": "Gsge4nk6Wb3J"
      },
      "source": [
        "## Minimize the mean squared error\n",
        "\n",
        "To generate the data for the exercise, we will use the `scikit-learn` library <https://scikit-learn.org>. It provides a huge selection of already implemented machine learning algorithms for classification, regression or clustering.\n",
        "\n",
        "If you use Anaconda or Colab, `scikit-learn` should already be installed. Otherwise, install it with `pip` (you may need to restart this notebook afterwards):\n",
        "\n",
        "```\n",
        "pip install scikit-learn\n",
        "```\n",
        "\n",
        "We will use the method `sklearn.datasets.make_regression` to generate the data. The documentation of this method is available at <https://scikit-learn.org/stable/modules/generated/sklearn.datasets.make_regression.html>.\n",
        "\n",
        "The following cell imports the method:"
      ]
    },
    {
      "cell_type": "code",
      "execution_count": 2,
      "metadata": {
        "id": "ulcS01RFWb3J"
      },
      "outputs": [],
      "source": [
        "from sklearn.datasets import make_regression"
      ]
    },
    {
      "cell_type": "markdown",
      "metadata": {
        "id": "6fcSupwBWb3J"
      },
      "source": [
        "We can now generate the data. We start with the simplest case where the inputs have only one dimension. We will generate 100 samples$(x_i, t_i)$ linked by a linear relationship and some noise.\n",
        "\n",
        "The following code generates the data:"
      ]
    },
    {
      "cell_type": "code",
      "execution_count": 37,
      "metadata": {
        "id": "eQ-iA-WgWb3J"
      },
      "outputs": [],
      "source": [
        "N = 100\n",
        "X, t = make_regression(n_samples=N, n_features=1, noise=15)\n",
        "\n",
        "# A high noise will make the points more disperse and a lower value of noise will make them less disperse\n",
        "# For instance if we put the noise value ate zero it will generate a line."
      ]
    },
    {
      "cell_type": "markdown",
      "metadata": {
        "id": "k7sRlL_kWb3J"
      },
      "source": [
        "`n_samples` is the number of samples generates, `n_features` is the number of input variables and `noise` quantifies how the points deviate from the linear relationship.\n",
        "\n",
        "**Q:** Print the shape of the arrays `X` and `t` to better understand what is generated. Visualize the dataset using matplotlib (`plt.scatter`). Vary the value of the `noise` argument in the previous cell and visualize the data again."
      ]
    },
    {
      "cell_type": "code",
      "execution_count": 49,
      "metadata": {
        "id": "dSikf19RWb3J",
        "colab": {
          "base_uri": "https://localhost:8080/",
          "height": 1000
        },
        "outputId": "c24e619e-eeb5-4d5a-f015-8ba9e120dc35"
      },
      "outputs": [
        {
          "output_type": "stream",
          "name": "stdout",
          "text": [
            "[[ 1.        ]\n",
            " [ 0.63321232]\n",
            " [ 0.07260299]\n",
            " [ 0.15821547]\n",
            " [-0.64743502]\n",
            " [-0.59131839]\n",
            " [-0.41093834]\n",
            " [ 0.05525323]\n",
            " [ 1.53232796]\n",
            " [ 1.37663909]\n",
            " [-1.32826939]\n",
            " [-0.81138244]\n",
            " [ 0.00755479]\n",
            " [ 0.25331357]\n",
            " [-1.16631032]\n",
            " [-0.61898631]\n",
            " [-0.01860299]\n",
            " [ 1.03566029]\n",
            " [ 0.08670639]\n",
            " [-1.38330675]\n",
            " [ 0.20720031]\n",
            " [ 1.03592676]\n",
            " [ 1.37394344]\n",
            " [ 0.62455494]\n",
            " [-1.01652414]\n",
            " [-0.10897933]\n",
            " [ 0.47574278]\n",
            " [-0.85523823]\n",
            " [ 0.87419404]\n",
            " [ 1.22108528]\n",
            " [-0.80852018]\n",
            " [ 0.48683511]\n",
            " [ 1.18848488]\n",
            " [ 0.30981212]\n",
            " [ 0.36816666]\n",
            " [-0.79448456]\n",
            " [-0.27871978]\n",
            " [-1.62250024]\n",
            " [ 1.23029124]\n",
            " [ 0.62539139]\n",
            " [ 1.90344761]\n",
            " [-0.64076391]\n",
            " [ 0.0605733 ]\n",
            " [ 0.85655189]\n",
            " [-0.13318117]\n",
            " [ 0.05872201]\n",
            " [-1.39137408]\n",
            " [ 0.84382606]\n",
            " [-1.14212106]\n",
            " [ 0.64327638]\n",
            " [-0.14153917]\n",
            " [-1.06108264]\n",
            " [ 0.35555003]\n",
            " [-0.17948094]\n",
            " [-0.48065735]\n",
            " [-0.05367162]\n",
            " [-0.48894693]\n",
            " [ 0.17077291]\n",
            " [-0.91286124]\n",
            " [ 0.90248388]\n",
            " [ 0.41454062]\n",
            " [ 0.05939016]\n",
            " [ 0.39233745]\n",
            " [ 0.82419303]\n",
            " [-0.13290596]\n",
            " [ 1.96878782]\n",
            " [-1.33918814]\n",
            " [-0.01003342]\n",
            " [-0.77873005]\n",
            " [-0.6092281 ]\n",
            " [ 1.91830442]\n",
            " [ 0.375894  ]\n",
            " [ 0.5869244 ]\n",
            " [ 0.44801158]\n",
            " [ 0.19058322]\n",
            " [ 0.11247034]\n",
            " [-0.17149923]\n",
            " [ 0.46716744]\n",
            " [ 0.8129437 ]\n",
            " [-0.6198111 ]\n",
            " [-1.45347385]\n",
            " [-1.83100251]\n",
            " [ 1.15855313]\n",
            " [-0.8264032 ]\n",
            " [ 1.34780173]\n",
            " [-1.36454463]\n",
            " [ 1.14957424]\n",
            " [-0.44286312]\n",
            " [-0.30242415]\n",
            " [ 0.5188675 ]\n",
            " [-0.35049581]\n",
            " [ 1.04484076]\n",
            " [ 1.76702087]\n",
            " [-0.15593543]\n",
            " [-0.60384536]\n",
            " [ 1.26753336]\n",
            " [ 1.31129793]\n",
            " [-1.70788325]\n",
            " [-0.06932224]\n",
            " [ 0.82672054]]\n",
            "1\n",
            "100\n",
            "[ 4.25674659e+01  1.84666961e+00  1.75110876e+01  2.73077475e+01\n",
            "  1.23237712e+01  8.09942839e+00 -1.15909048e+01 -1.63872392e+01\n",
            "  6.16352221e+01  4.51469607e+01 -3.13207939e+01 -4.56315015e+01\n",
            " -2.24252936e+01 -5.87435781e+00 -1.32674880e+01 -1.16300331e+01\n",
            "  1.57466044e+01  2.12899626e+01  4.84077842e-02 -5.20902414e+01\n",
            "  9.32682880e+00  3.92992357e+01  8.00400762e+01  5.69823738e-01\n",
            " -4.22502434e+01  1.43435048e+01  9.49328650e+00 -3.01043261e+01\n",
            "  1.75611023e+01  3.05933329e+01 -2.64681031e+01  3.25918675e+01\n",
            "  3.32251611e+01  2.68847469e+01  4.47177385e+01 -3.49154376e+01\n",
            " -1.56911349e+00 -3.10558969e+01  1.50044113e+01  2.12724292e+01\n",
            "  4.77345578e+01 -2.00556019e+01 -1.61464788e+00  4.11316067e+01\n",
            " -1.74719936e+00  1.36489557e+01 -3.77075035e+01  2.79046517e+01\n",
            " -5.99582026e+01  1.47328673e+01 -1.24555599e+01 -2.36352974e+01\n",
            " -6.60324601e+00  3.56189538e+00 -3.18753833e+01  2.14621998e+00\n",
            " -7.87346743e+00  2.81387156e+01 -4.43482918e+01  3.11847783e+01\n",
            "  6.21455782e+00  4.94488427e+00  1.26443074e+01  4.59858752e+01\n",
            "  1.32010664e+01  7.21402256e+01 -4.70914764e+01 -1.11676328e+01\n",
            " -3.03783009e+01 -9.99595738e+00  5.71426783e+01  3.06526501e+01\n",
            " -2.58068594e+00  1.49973416e+01  2.97881117e+01  8.12296759e+00\n",
            "  4.23107743e+00  3.71235636e+01  6.25127911e+00 -3.39142087e+01\n",
            " -3.93631939e+01 -7.35524333e+01  2.87371445e+01 -4.66043116e+01\n",
            "  2.59386017e+01 -4.36581343e+01 -8.94204111e+00 -6.74262736e+00\n",
            " -7.85214008e+00  2.76683960e+01 -8.05256583e+00  1.49266620e+01\n",
            "  4.74546233e+01 -1.36287939e+01  3.05531411e+00  4.85526113e+01\n",
            "  5.26641507e+01 -3.53181505e+01 -6.56717627e+00 -5.56776601e+00]\n"
          ]
        },
        {
          "output_type": "execute_result",
          "data": {
            "text/plain": [
              "<matplotlib.collections.PathCollection at 0x7bee655d7d30>"
            ]
          },
          "metadata": {},
          "execution_count": 49
        },
        {
          "output_type": "display_data",
          "data": {
            "text/plain": [
              "<Figure size 640x480 with 1 Axes>"
            ],
            "image/png": "[encoded data removed]"
          },
          "metadata": {}
        }
      ],
      "source": [
        "print(X) #feature values\n",
        "print(len(X[0]))\n",
        "print(len(X))\n",
        "print(t) # target values\n",
        "plt.scatter(X,t)\n",
        "\n",
        "# t - a simple array\n",
        "# X - is a matrix with 100 lines and 1 column"
      ]
    },
    {
      "cell_type": "markdown",
      "metadata": {
        "id": "5DGOLlsAWb3K"
      },
      "source": [
        "Now is the time to solve the Linear Regression problem with numpy.\n",
        "\n",
        "Remember the problem we need to solve:\n",
        "\n",
        "$$\\mathop{\\text{minimize} }_\\alpha \\|X\\alpha - y\\|^2$$\n",
        "\n",
        "where\n",
        "$X\\in \\mathbb{R}^{N \\times (d+1)}$ is the augmented data matrix such that each line $i$ is $x_i = (x_{i1} \\; 1)$, containing the features of example $i$.\n",
        "\n",
        "**Q:** Create matrix $X$ and vector $y$."
      ]
    },
    {
      "cell_type": "code",
      "source": [
        "matrix_of_ones = np.ones((X.shape[0], 1)) # matrix filled with ones\n",
        "\n",
        "augmented_matrix = np.hstack((X, matrix_of_ones)) # let's add to our original matrix the one with ones as a collumn\n",
        "\n",
        "print(augmented_matrix)\n",
        "\n",
        "y = t\n",
        "\n",
        "print(y)\n"
      ],
      "metadata": {
        "id": "H56RuuU8afQ8",
        "colab": {
          "base_uri": "https://localhost:8080/"
        },
        "outputId": "a793e5ab-e432-46f5-8a44-505bf8c959d3"
      },
      "execution_count": 57,
      "outputs": [
        {
          "output_type": "stream",
          "name": "stdout",
          "text": [
            "[[ 1.          1.        ]\n",
            " [ 0.63321232  1.        ]\n",
            " [ 0.07260299  1.        ]\n",
            " [ 0.15821547  1.        ]\n",
            " [-0.64743502  1.        ]\n",
            " [-0.59131839  1.        ]\n",
            " [-0.41093834  1.        ]\n",
            " [ 0.05525323  1.        ]\n",
            " [ 1.53232796  1.        ]\n",
            " [ 1.37663909  1.        ]\n",
            " [-1.32826939  1.        ]\n",
            " [-0.81138244  1.        ]\n",
            " [ 0.00755479  1.        ]\n",
            " [ 0.25331357  1.        ]\n",
            " [-1.16631032  1.        ]\n",
            " [-0.61898631  1.        ]\n",
            " [-0.01860299  1.        ]\n",
            " [ 1.03566029  1.        ]\n",
            " [ 0.08670639  1.        ]\n",
            " [-1.38330675  1.        ]\n",
            " [ 0.20720031  1.        ]\n",
            " [ 1.03592676  1.        ]\n",
            " [ 1.37394344  1.        ]\n",
            " [ 0.62455494  1.        ]\n",
            " [-1.01652414  1.        ]\n",
            " [-0.10897933  1.        ]\n",
            " [ 0.47574278  1.        ]\n",
            " [-0.85523823  1.        ]\n",
            " [ 0.87419404  1.        ]\n",
            " [ 1.22108528  1.        ]\n",
            " [-0.80852018  1.        ]\n",
            " [ 0.48683511  1.        ]\n",
            " [ 1.18848488  1.        ]\n",
            " [ 0.30981212  1.        ]\n",
            " [ 0.36816666  1.        ]\n",
            " [-0.79448456  1.        ]\n",
            " [-0.27871978  1.        ]\n",
            " [-1.62250024  1.        ]\n",
            " [ 1.23029124  1.        ]\n",
            " [ 0.62539139  1.        ]\n",
            " [ 1.90344761  1.        ]\n",
            " [-0.64076391  1.        ]\n",
            " [ 0.0605733   1.        ]\n",
            " [ 0.85655189  1.        ]\n",
            " [-0.13318117  1.        ]\n",
            " [ 0.05872201  1.        ]\n",
            " [-1.39137408  1.        ]\n",
            " [ 0.84382606  1.        ]\n",
            " [-1.14212106  1.        ]\n",
            " [ 0.64327638  1.        ]\n",
            " [-0.14153917  1.        ]\n",
            " [-1.06108264  1.        ]\n",
            " [ 0.35555003  1.        ]\n",
            " [-0.17948094  1.        ]\n",
            " [-0.48065735  1.        ]\n",
            " [-0.05367162  1.        ]\n",
            " [-0.48894693  1.        ]\n",
            " [ 0.17077291  1.        ]\n",
            " [-0.91286124  1.        ]\n",
            " [ 0.90248388  1.        ]\n",
            " [ 0.41454062  1.        ]\n",
            " [ 0.05939016  1.        ]\n",
            " [ 0.39233745  1.        ]\n",
            " [ 0.82419303  1.        ]\n",
            " [-0.13290596  1.        ]\n",
            " [ 1.96878782  1.        ]\n",
            " [-1.33918814  1.        ]\n",
            " [-0.01003342  1.        ]\n",
            " [-0.77873005  1.        ]\n",
            " [-0.6092281   1.        ]\n",
            " [ 1.91830442  1.        ]\n",
            " [ 0.375894    1.        ]\n",
            " [ 0.5869244   1.        ]\n",
            " [ 0.44801158  1.        ]\n",
            " [ 0.19058322  1.        ]\n",
            " [ 0.11247034  1.        ]\n",
            " [-0.17149923  1.        ]\n",
            " [ 0.46716744  1.        ]\n",
            " [ 0.8129437   1.        ]\n",
            " [-0.6198111   1.        ]\n",
            " [-1.45347385  1.        ]\n",
            " [-1.83100251  1.        ]\n",
            " [ 1.15855313  1.        ]\n",
            " [-0.8264032   1.        ]\n",
            " [ 1.34780173  1.        ]\n",
            " [-1.36454463  1.        ]\n",
            " [ 1.14957424  1.        ]\n",
            " [-0.44286312  1.        ]\n",
            " [-0.30242415  1.        ]\n",
            " [ 0.5188675   1.        ]\n",
            " [-0.35049581  1.        ]\n",
            " [ 1.04484076  1.        ]\n",
            " [ 1.76702087  1.        ]\n",
            " [-0.15593543  1.        ]\n",
            " [-0.60384536  1.        ]\n",
            " [ 1.26753336  1.        ]\n",
            " [ 1.31129793  1.        ]\n",
            " [-1.70788325  1.        ]\n",
            " [-0.06932224  1.        ]\n",
            " [ 0.82672054  1.        ]]\n",
            "[ 4.25674659e+01  1.84666961e+00  1.75110876e+01  2.73077475e+01\n",
            "  1.23237712e+01  8.09942839e+00 -1.15909048e+01 -1.63872392e+01\n",
            "  6.16352221e+01  4.51469607e+01 -3.13207939e+01 -4.56315015e+01\n",
            " -2.24252936e+01 -5.87435781e+00 -1.32674880e+01 -1.16300331e+01\n",
            "  1.57466044e+01  2.12899626e+01  4.84077842e-02 -5.20902414e+01\n",
            "  9.32682880e+00  3.92992357e+01  8.00400762e+01  5.69823738e-01\n",
            " -4.22502434e+01  1.43435048e+01  9.49328650e+00 -3.01043261e+01\n",
            "  1.75611023e+01  3.05933329e+01 -2.64681031e+01  3.25918675e+01\n",
            "  3.32251611e+01  2.68847469e+01  4.47177385e+01 -3.49154376e+01\n",
            " -1.56911349e+00 -3.10558969e+01  1.50044113e+01  2.12724292e+01\n",
            "  4.77345578e+01 -2.00556019e+01 -1.61464788e+00  4.11316067e+01\n",
            " -1.74719936e+00  1.36489557e+01 -3.77075035e+01  2.79046517e+01\n",
            " -5.99582026e+01  1.47328673e+01 -1.24555599e+01 -2.36352974e+01\n",
            " -6.60324601e+00  3.56189538e+00 -3.18753833e+01  2.14621998e+00\n",
            " -7.87346743e+00  2.81387156e+01 -4.43482918e+01  3.11847783e+01\n",
            "  6.21455782e+00  4.94488427e+00  1.26443074e+01  4.59858752e+01\n",
            "  1.32010664e+01  7.21402256e+01 -4.70914764e+01 -1.11676328e+01\n",
            " -3.03783009e+01 -9.99595738e+00  5.71426783e+01  3.06526501e+01\n",
            " -2.58068594e+00  1.49973416e+01  2.97881117e+01  8.12296759e+00\n",
            "  4.23107743e+00  3.71235636e+01  6.25127911e+00 -3.39142087e+01\n",
            " -3.93631939e+01 -7.35524333e+01  2.87371445e+01 -4.66043116e+01\n",
            "  2.59386017e+01 -4.36581343e+01 -8.94204111e+00 -6.74262736e+00\n",
            " -7.85214008e+00  2.76683960e+01 -8.05256583e+00  1.49266620e+01\n",
            "  4.74546233e+01 -1.36287939e+01  3.05531411e+00  4.85526113e+01\n",
            "  5.26641507e+01 -3.53181505e+01 -6.56717627e+00 -5.56776601e+00]\n"
          ]
        }
      ]
    },
    {
      "cell_type": "markdown",
      "source": [
        "\n",
        "**Q:** Identify the optimization variable of the problem.\n",
        "\n",
        "This is a (convex) quadratic problem. To solve it, we simply differentiate it, obtaining the gradient, and equate the gradient to zero, obtaining\n",
        "\n",
        "$$ X^T(X\\alpha-y)=0.$$\n",
        "\n",
        "By solving this equation with respect to $w$ we get\n",
        "$$\\alpha = (X^TX)^{-1} X^Ty.$$\n",
        "\n",
        "In Numpy, check how to do matrix multiplication and how to compute the inverse of a matrix. Read the documentation of [pinv](https://numpy.org/doc/stable/reference/generated/numpy.linalg.pinv.html), [matmul](https://numpy.org/doc/stable/reference/generated/numpy.matmul.html) and [dot](https://numpy.org/doc/stable/reference/generated/numpy.dot.html) to start.\n",
        "\n",
        "\n",
        "**Q:** Using the above identity, compute the regression weights $\\alpha$.\n",
        "\n"
      ],
      "metadata": {
        "id": "NmCkKbyAac98"
      }
    },
    {
      "cell_type": "code",
      "execution_count": 85,
      "metadata": {
        "id": "4DItyimfWb3K",
        "colab": {
          "base_uri": "https://localhost:8080/"
        },
        "outputId": "ff697684-c143-49fd-c79e-d539cb4cf876"
      },
      "outputs": [
        {
          "output_type": "stream",
          "name": "stdout",
          "text": [
            "[[ 79.97125357   9.13529132]\n",
            " [  9.13529132 100.        ]]\n",
            "[2401.44151391  375.63624009]\n",
            "[[ 0.01263636 -0.00115437]\n",
            " [-0.00115437  0.01010545]]\n",
            "[29.91185515  1.02382729]\n"
          ]
        }
      ],
      "source": [
        "X_transposed = augmented_matrix.T\n",
        "#print(X_transposed)\n",
        "\n",
        "XTX = np.dot(X_transposed,augmented_matrix)\n",
        "print(XTX)\n",
        "\n",
        "XTy = np.dot(X_transposed,y)\n",
        "print(XTy)\n",
        "\n",
        "XTX_inv = np.linalg.inv(XTX)\n",
        "print(XTX_inv)\n",
        "\n",
        "right_most = np.matmul(X_transposed,y)\n",
        "left_most = np.matmul(X_transposed,augmented_matrix)\n",
        "left_most = np.linalg.inv(left_most)\n",
        "\n",
        "alpha = np.matmul(left_most,right_most)\n",
        "\n",
        "#alpha = np.dot()\n",
        "\n",
        "print(alpha)\n"
      ]
    },
    {
      "cell_type": "markdown",
      "metadata": {
        "id": "CUPTsmG6Wb3K"
      },
      "source": [
        "**Q:** Visualize the quality of the fit by superposing the learned model to the data with matplotlib.\n",
        "\n",
        "*Tip*: you can get the extreme values of the xaxis with `X.min()` and `X.max()`. To visualize the model, you just need to plot a line between the points `(X.min(), a[0]*X.min()+a[1])` and `(X.max(), a[0]*X.max()+a[1])`."
      ]
    },
    {
      "cell_type": "code",
      "execution_count": 102,
      "metadata": {
        "id": "nJq2Bu6PWb3K",
        "colab": {
          "base_uri": "https://localhost:8080/",
          "height": 550
        },
        "outputId": "3aa24063-a4a9-453d-fa68-7240cfac6462"
      },
      "outputs": [
        {
          "output_type": "display_data",
          "data": {
            "text/plain": [
              "<Figure size 640x480 with 1 Axes>"
            ],
            "image/png": "[encoded data removed]"
          },
          "metadata": {}
        },
        {
          "output_type": "execute_result",
          "data": {
            "text/plain": [
              "' \\nCertainly, let me explain why the two points `([y_min, y_min], [y_max, y_max])` work for plotting the ideal relationship line `y = x`:\\n\\n1. `([y_min, y_min])`: These are the x-coordinates for the line. Both x-coordinates are set to the minimum actual value, `y_min`. \\n\\n2. `([y_max, y_max])`: These are the y-coordinates for the line. Both y-coordinates are set to the maximum actual value, `y_max`.\\n\\nThe reason these points work is because they create a diagonal line with a slope of 1 (45-degree angle) that passes through the origin (0, 0). Here\\'s why:\\n\\n- `([y_min, y_min], [y_max, y_max])` represents a line where the x-coordinate and y-coordinate are always equal to each other. In other words, for any value `x`, the corresponding value of `y` is the same. This is precisely what `y = x` represents, where the values of `y` and `x` are identical.\\n\\n- The line `[y_min, y_min]` to `[y_max, y_max]` starts at the point `(y_min, y_min)` and ends at the point `(y_max, y_max)`. This line represents a perfect one-to-one relationship between the actual values (`y`) and the predicted values (`y_hat`). In an ideal scenario, the predicted values should match the actual values perfectly, which is why this line is considered the \"ideal relationship.\"\\n\\n- This diagonal line ensures that, for any value on the x-axis (actual values), the corresponding value on the y-axis (predicted values) is the same. This is the essence of a perfect prediction, where every point on the line represents a case where the predicted value equals the actual value.\\n\\nIn summary, these two points and the resulting line `[y_min, y_min]` to `[y_max, y_max]` represent the ideal scenario where the predicted values (`y_hat`) perfectly match the actual values (`y`) for all data points, forming a diagonal line with a slope of 1.\\n\\n'"
            ],
            "application/vnd.google.colaboratory.intrinsic+json": {
              "type": "string"
            }
          },
          "metadata": {},
          "execution_count": 102
        }
      ],
      "source": [
        "# alpha da-nos os coeficientes a serem usados na nossa função y = ax + b\n",
        "\n",
        "# Create a linear function using the minimum and maximum x-values\n",
        "x_min = X.min()\n",
        "x_max = X.max()\n",
        "y_min = alpha[0] * x_min + alpha[1]\n",
        "y_max = alpha[0] * x_max + alpha[1]\n",
        "\n",
        "# Create linear x and y values for the line\n",
        "linear_x = np.array([x_min, x_max])\n",
        "linear_y = np.array([y_min, y_max])\n",
        "\n",
        "X_reg = np.linspace(augmented_matrix[:,0].min(),augmented_matrix[:,0].max(),300)\n",
        "\n",
        "Y_reg = np.polyval(alpha,X_reg)\n",
        "\n",
        "plt.figure()\n",
        "plt.scatter(X,t)\n",
        "plt.plot(X_reg,Y_reg)\n",
        "plt.plot(linear_x,linear_y, marker='o', linestyle='-')\n",
        "plt.show()\n",
        "plt.close()\n"
      ]
    },
    {
      "cell_type": "markdown",
      "metadata": {
        "id": "GNNeNUwTWb3K"
      },
      "source": [
        "Another option is to predict a value for all inputs and plot this vector $\\hat{y}$ against the desired values $y$.\n",
        "\n",
        "**Q:** Make a scatter plot where $y$ is the x-axis and $\\hat{y} = \\alpha[0]\\, x + \\alpha[1]$ is the y-axis. How should the points be arranged in the ideal case? Also plot what this ideal relationship should be."
      ]
    },
    {
      "cell_type": "code",
      "execution_count": 103,
      "metadata": {
        "id": "qpUuIPoEWb3K",
        "colab": {
          "base_uri": "https://localhost:8080/",
          "height": 569
        },
        "outputId": "7614fd9d-6d50-4d55-a4e5-599f678edf4f"
      },
      "outputs": [
        {
          "output_type": "display_data",
          "data": {
            "text/plain": [
              "<Figure size 640x480 with 1 Axes>"
            ],
            "image/png": "[encoded data removed]"
          },
          "metadata": {}
        },
        {
          "output_type": "execute_result",
          "data": {
            "text/plain": [
              "' \\nCertainly, let me explain why the two points `([y_min, y_min], [y_max, y_max])` work for plotting the ideal relationship line `y = x`:\\n\\n1. `([y_min, y_min])`: These are the x-coordinates for the line. Both x-coordinates are set to the minimum actual value, `y_min`. \\n\\n2. `([y_max, y_max])`: These are the y-coordinates for the line. Both y-coordinates are set to the maximum actual value, `y_max`.\\n\\nThe reason these points work is because they create a diagonal line with a slope of 1 (45-degree angle) that passes through the origin (0, 0). Here\\'s why:\\n\\n- `([y_min, y_min], [y_max, y_max])` represents a line where the x-coordinate and y-coordinate are always equal to each other. In other words, for any value `x`, the corresponding value of `y` is the same. This is precisely what `y = x` represents, where the values of `y` and `x` are identical.\\n\\n- The line `[y_min, y_min]` to `[y_max, y_max]` starts at the point `(y_min, y_min)` and ends at the point `(y_max, y_max)`. This line represents a perfect one-to-one relationship between the actual values (`y`) and the predicted values (`y_hat`). In an ideal scenario, the predicted values should match the actual values perfectly, which is why this line is considered the \"ideal relationship.\"\\n\\n- This diagonal line ensures that, for any value on the x-axis (actual values), the corresponding value on the y-axis (predicted values) is the same. This is the essence of a perfect prediction, where every point on the line represents a case where the predicted value equals the actual value.\\n\\nIn summary, these two points and the resulting line `[y_min, y_min]` to `[y_max, y_max]` represent the ideal scenario where the predicted values (`y_hat`) perfectly match the actual values (`y`) for all data points, forming a diagonal line with a slope of 1.\\n\\n'"
            ],
            "application/vnd.google.colaboratory.intrinsic+json": {
              "type": "string"
            }
          },
          "metadata": {},
          "execution_count": 103
        }
      ],
      "source": [
        "y_hat = alpha[0] * X + alpha[1]\n",
        "\n",
        "plt.figure()\n",
        "plt.scatter(y, y_hat, label='Scatter Plot')\n",
        "\n",
        "# Plot the ideal relationship line (y = y_hat)\n",
        "plt.plot([y.min(), y.max()], [y.min(), y.max()], marker='o', label='Ideal Relationship', linestyle='--')\n",
        "\n",
        "plt.xlabel('Actual Values (y)')\n",
        "plt.ylabel('Predicted Values (y_hat)')\n",
        "plt.legend()\n",
        "plt.show()\n",
        "\n",
        "\n",
        "\n",
        "'''\n",
        "Certainly, let me explain why the two points `([y_min, y_min], [y_max, y_max])` work for plotting the ideal relationship line `y = x`:\n",
        "\n",
        "1. `([y_min, y_min])`: These are the x-coordinates for the line. Both x-coordinates are set to the minimum actual value, `y_min`.\n",
        "\n",
        "2. `([y_max, y_max])`: These are the y-coordinates for the line. Both y-coordinates are set to the maximum actual value, `y_max`.\n",
        "\n",
        "The reason these points work is because they create a diagonal line with a slope of 1 (45-degree angle) that passes through the origin (0, 0). Here's why:\n",
        "\n",
        "- `([y_min, y_min], [y_max, y_max])` represents a line where the x-coordinate and y-coordinate are always equal to each other. In other words, for any value `x`, the corresponding value of `y` is the same. This is precisely what `y = x` represents, where the values of `y` and `x` are identical.\n",
        "\n",
        "- The line `[y_min, y_min]` to `[y_max, y_max]` starts at the point `(y_min, y_min)` and ends at the point `(y_max, y_max)`. This line represents a perfect one-to-one relationship between the actual values (`y`) and the predicted values (`y_hat`). In an ideal scenario, the predicted values should match the actual values perfectly, which is why this line is considered the \"ideal relationship.\"\n",
        "\n",
        "- This diagonal line ensures that, for any value on the x-axis (actual values), the corresponding value on the y-axis (predicted values) is the same. This is the essence of a perfect prediction, where every point on the line represents a case where the predicted value equals the actual value.\n",
        "\n",
        "In summary, these two points and the resulting line `[y_min, y_min]` to `[y_max, y_max]` represent the ideal scenario where the predicted values (`y_hat`) perfectly match the actual values (`y`) for all data points, forming a diagonal line with a slope of 1.\n",
        "\n",
        "'''\n",
        "\n"
      ]
    },
    {
      "cell_type": "markdown",
      "metadata": {
        "id": "FF0cBZNTWb3K"
      },
      "source": []
    },
    {
      "cell_type": "markdown",
      "metadata": {
        "id": "BwrCPZsNWb3K"
      },
      "source": [
        "## Scikit-learn\n",
        "\n",
        "The code that you have written is functional, but extremely slow, as you use for loops in Python. For so little data samples, it does not make a difference, but if you had millions of samples, this would start to be a problem.\n",
        "\n",
        "The solution is to use optimized implementations of the algorithms, running in C++ or FORTRAN under the hood. We will use here the LMS algorithm provided by `scikit-learn` as you have already installed it and it is very simple to use. Note that one could use tensorflow too, but that would be killing a fly with a sledgehammer.\n",
        "\n",
        "`scikit-learn` provides a `LinearRegression` object that implements the training procedure above. The documentation is at: <https://scikit-learn.org/stable/modules/generated/sklearn.linear_model.LinearRegression.html>.\n",
        "\n",
        "You simply import it with:\n",
        "\n",
        "```python\n",
        "from sklearn.linear_model import LinearRegression\n",
        "```\n",
        "\n",
        "You create the object with:\n",
        "\n",
        "```python\n",
        "reg = LinearRegression()\n",
        "```\n",
        "\n",
        "`reg` is now an object with different methods (`fit()`, `predict()`) that accept any kind of data and performs linear regression.\n",
        "\n",
        "To train the model on the data $(X, y)$, simply use:\n",
        "\n",
        "```python\n",
        "reg.fit(X, y)\n",
        "```\n",
        "\n",
        "The parameters of the model are obtained with `reg.coef_` for $w[0]$ and `reg.intercept_` for $w[1]$.\n",
        "\n",
        "You can predict outputs for new inputs using:\n",
        "\n",
        "```python\n",
        "y = reg.predict(X)\n",
        "```\n",
        "\n",
        "**Q:** Apply linear regression on the data using `scikit-learn`. Check the model parameters after learning and compare them to what you obtained previously. Print the mse and make a plot comparing the predictions with the data."
      ]
    },
    {
      "cell_type": "code",
      "execution_count": null,
      "metadata": {
        "id": "XRcQNV0hWb3K"
      },
      "outputs": [],
      "source": []
    }
  ],
  "metadata": {
    "kernelspec": {
      "display_name": "Python 3",
      "language": "python",
      "name": "python3"
    },
    "language_info": {
      "codemirror_mode": {
        "name": "ipython",
        "version": 3
      },
      "file_extension": ".py",
      "mimetype": "text/x-python",
      "name": "python",
      "nbconvert_exporter": "python",
      "pygments_lexer": "ipython3",
      "version": "3.8.5"
    },
    "colab": {
      "provenance": [],
      "include_colab_link": true
    }
  },
  "nbformat": 4,
  "nbformat_minor": 0
}