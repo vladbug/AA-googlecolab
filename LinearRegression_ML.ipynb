{
  "cells": [
    {
      "cell_type": "markdown",
      "metadata": {
        "id": "view-in-github",
        "colab_type": "text"
      },
      "source": [
        "<a href=\"https://colab.research.google.com/github/vladbug/AA-googlecolab/blob/main/LinearRegression_ML.ipynb\" target=\"_parent\"><img src=\"https://colab.research.google.com/assets/colab-badge.svg\" alt=\"Open In Colab\"/></a>"
      ]
    },
    {
      "cell_type": "markdown",
      "metadata": {
        "id": "2mEttoYTWb3I"
      },
      "source": [
        "# Linear regression\n",
        "\n",
        "The goal of this exercise is to implement the linear regression method seen in the course.\n",
        "\n",
        "Please copy this notebook to your Google account or download it as a Jupyter Notebook.\n",
        "\n",
        "We start by importing numpy and matplotlib."
      ]
    },
    {
      "cell_type": "code",
      "execution_count": 1,
      "metadata": {
        "id": "ffgw_jqQWb3J"
      },
      "outputs": [],
      "source": [
        "import numpy as np\n",
        "import matplotlib.pyplot as plt"
      ]
    },
    {
      "cell_type": "markdown",
      "metadata": {
        "id": "Gsge4nk6Wb3J"
      },
      "source": [
        "## Minimize the mean squared error\n",
        "\n",
        "To generate the data for the exercise, we will use the `scikit-learn` library <https://scikit-learn.org>. It provides a huge selection of already implemented machine learning algorithms for classification, regression or clustering.\n",
        "\n",
        "If you use Anaconda or Colab, `scikit-learn` should already be installed. Otherwise, install it with `pip` (you may need to restart this notebook afterwards):\n",
        "\n",
        "```\n",
        "pip install scikit-learn\n",
        "```\n",
        "\n",
        "We will use the method `sklearn.datasets.make_regression` to generate the data. The documentation of this method is available at <https://scikit-learn.org/stable/modules/generated/sklearn.datasets.make_regression.html>.\n",
        "\n",
        "The following cell imports the method:"
      ]
    },
    {
      "cell_type": "code",
      "execution_count": 2,
      "metadata": {
        "id": "ulcS01RFWb3J"
      },
      "outputs": [],
      "source": [
        "from sklearn.datasets import make_regression"
      ]
    },
    {
      "cell_type": "markdown",
      "metadata": {
        "id": "6fcSupwBWb3J"
      },
      "source": [
        "We can now generate the data. We start with the simplest case where the inputs have only one dimension. We will generate 100 samples$(x_i, t_i)$ linked by a linear relationship and some noise.\n",
        "\n",
        "The following code generates the data:"
      ]
    },
    {
      "cell_type": "code",
      "execution_count": 13,
      "metadata": {
        "id": "eQ-iA-WgWb3J"
      },
      "outputs": [],
      "source": [
        "N = 100\n",
        "X, t = make_regression(n_samples=N, n_features=3, noise=15)\n",
        "\n",
        "# A high noise will make the points more disperse and a lower value of noise will make them less disperse\n",
        "# For instance if we put the noise value ate zero it will generate a line."
      ]
    },
    {
      "cell_type": "markdown",
      "metadata": {
        "id": "k7sRlL_kWb3J"
      },
      "source": [
        "`n_samples` is the number of samples generates, `n_features` is the number of input variables and `noise` quantifies how the points deviate from the linear relationship.\n",
        "\n",
        "**Q:** Print the shape of the arrays `X` and `t` to better understand what is generated. Visualize the dataset using matplotlib (`plt.scatter`). Vary the value of the `noise` argument in the previous cell and visualize the data again."
      ]
    },
    {
      "cell_type": "code",
      "execution_count": 15,
      "metadata": {
        "id": "dSikf19RWb3J",
        "colab": {
          "base_uri": "https://localhost:8080/"
        },
        "outputId": "2f28aa47-7b75-4e5c-9998-02f76d2301ce"
      },
      "outputs": [
        {
          "output_type": "stream",
          "name": "stdout",
          "text": [
            "[[-2.55383391  0.42176955 -0.39969469]\n",
            " [ 0.59550619  0.81561569 -0.3526518 ]\n",
            " [-0.20665873  1.0140133  -0.25612998]\n",
            " [-0.38138652  1.0953621   0.66082968]\n",
            " [ 0.30427865  0.04315207 -1.01642706]\n",
            " [-0.0647872  -0.04129006  0.84919159]\n",
            " [ 1.54329015 -0.42859895  0.86596924]\n",
            " [ 0.72843329  1.44269876 -1.36023724]\n",
            " [ 0.79905258 -0.8402445  -2.21874002]\n",
            " [ 1.56492758 -0.01068374 -0.52995272]\n",
            " [ 1.24888598  0.16228718  0.36670714]\n",
            " [ 0.20420772 -1.74550099  0.53927322]\n",
            " [ 0.9023927   1.91600569  0.34557932]\n",
            " [-0.60731227 -1.1202949  -1.18918762]\n",
            " [-0.27800197 -1.91230131 -1.51141975]\n",
            " [ 1.21032967  1.11088363 -0.31677931]\n",
            " [ 1.48230128  0.06542363 -0.57020551]\n",
            " [ 0.83422353  0.01625043 -2.7150018 ]\n",
            " [ 0.19689752 -0.17712676  0.58126041]\n",
            " [-0.81285141 -0.34289491  1.17871295]\n",
            " [ 0.07675524  0.91323791  1.30765603]\n",
            " [-0.2425455   0.22438891  0.55850362]\n",
            " [-0.83509855 -0.59685596 -0.34021947]\n",
            " [ 0.52712699 -1.01889959 -0.01562732]\n",
            " [-0.30791352  0.41260279 -1.1357331 ]\n",
            " [ 0.03109097  0.54501444 -0.705995  ]\n",
            " [-1.28581999 -1.42380395 -0.13371982]\n",
            " [ 0.59073742  0.98406275  1.10372174]\n",
            " [-0.54452404  0.53716032  1.16153089]\n",
            " [-1.28087762  0.49122964 -1.58104655]\n",
            " [-1.15405654  1.48959718  0.80904566]\n",
            " [ 0.81559969 -0.24824048  0.77865136]\n",
            " [ 0.29010497  1.0107886   0.56441093]\n",
            " [ 0.04195331 -0.11000239 -1.26169846]\n",
            " [-0.89035413 -0.49365365 -0.07458736]\n",
            " [-0.82066085  0.27880646  1.08050394]\n",
            " [ 0.01960945 -1.70888537  1.4967915 ]\n",
            " [ 0.71883169 -0.5735079   0.74623813]\n",
            " [ 1.82349316 -0.06755922 -0.87969954]\n",
            " [-0.8559751  -0.91782439  1.36733081]\n",
            " [-1.16329064 -1.22330522 -0.78912917]\n",
            " [ 1.56608995 -0.59988839 -1.19833047]\n",
            " [ 0.74579379  0.43134253  0.59871443]\n",
            " [-0.38832    -0.52532273  1.62591121]\n",
            " [-1.49754563  0.75012724 -1.03292672]\n",
            " [ 0.46623455  1.00101257 -1.0890474 ]\n",
            " [-0.09447634  0.91482452 -0.62721319]\n",
            " [-1.52598684 -1.09892138 -1.53670585]\n",
            " [-0.60871709  1.88651617  0.56429143]\n",
            " [ 0.67674003  0.44464698  0.6788782 ]\n",
            " [-1.32560117  1.04002663  0.16493405]\n",
            " [ 1.15911451 -0.49285923 -0.07451127]\n",
            " [ 0.16822617 -1.06735609 -1.22834479]\n",
            " [ 1.55007093 -0.67575695  0.75783044]\n",
            " [-1.0117097  -0.13977679  1.43905873]\n",
            " [ 0.48345575  0.40981547  0.6772691 ]\n",
            " [ 0.93964071  0.0929109  -0.56424871]\n",
            " [ 1.81374541  1.55314059 -1.46596229]\n",
            " [-0.12958669 -0.1269327   0.86576009]\n",
            " [-1.47581721  0.40339669  0.19241251]\n",
            " [ 0.92815198 -0.11126863  1.19509082]\n",
            " [ 0.71562339 -1.2485547  -0.60945036]\n",
            " [-0.82829762  1.14698284 -0.752377  ]\n",
            " [-0.01506891  0.25311422  0.66748589]\n",
            " [ 0.02150473  0.61624659 -0.91598912]\n",
            " [-0.44965613  1.1716552   0.40074289]\n",
            " [-0.45003407  1.58491658  0.96709435]\n",
            " [-0.63337024  0.55030004  0.4230066 ]\n",
            " [-0.02846933  0.80721628 -0.5726314 ]\n",
            " [ 1.10517739 -0.05179386  0.1280953 ]\n",
            " [ 0.68237582 -1.49778394 -1.61330447]\n",
            " [ 0.71588077 -0.2499952  -1.13368695]\n",
            " [ 1.41459214  0.91977351  0.88475564]\n",
            " [-1.1573527  -0.51566587 -0.69809576]\n",
            " [-0.37355467  0.19312652  0.60306863]\n",
            " [-1.20898327 -0.09166012  2.52732174]\n",
            " [-0.76050682 -1.53904323  0.63220531]\n",
            " [ 1.19442675  2.19811861  0.93174857]\n",
            " [ 0.20572473  0.63711046  0.08648797]\n",
            " [ 0.29086324  0.47204785 -0.32723877]\n",
            " [-0.96935608 -0.88419362  1.13700178]\n",
            " [-1.36638173  0.69762061  0.53333436]\n",
            " [-0.77138997 -1.05745047 -0.05254291]\n",
            " [-0.0303308   0.2835497  -0.78440657]\n",
            " [-0.83457     0.3379577  -0.16807395]\n",
            " [ 0.39612408 -0.32812207 -0.49054915]\n",
            " [ 0.02226532  0.08806485 -0.1157081 ]\n",
            " [-1.3721557  -0.18113011  1.27955367]\n",
            " [-0.63824134 -0.48670967  0.6044812 ]\n",
            " [ 1.00933533 -0.70049127 -1.65894139]\n",
            " [-1.26884342 -0.98717052  2.31507028]\n",
            " [-0.96053446 -0.19675969  0.44901112]\n",
            " [-0.81650934  0.2298747  -0.84606604]\n",
            " [ 0.35569748 -0.61280899 -0.54806236]\n",
            " [-0.86044299 -0.21219667 -0.21837175]\n",
            " [-0.60550138 -1.39770358 -0.29956151]\n",
            " [ 1.16051323 -0.42755177 -0.51813763]\n",
            " [ 0.21417651  0.98849707 -1.19646849]\n",
            " [-0.7342591  -1.48718557 -0.96547667]\n",
            " [ 0.13090481  0.31456811 -0.96561938]]\n",
            "3\n",
            "100\n",
            "[ -16.18453979   78.17737876   74.50625775  139.42152094  -39.27700633\n",
            "   52.4044923    37.85817751   26.4540718  -250.55633649   16.89870602\n",
            "   75.3313012  -148.09230139  227.44528534 -213.73662176 -277.63152573\n",
            "  124.9413072     6.73132368 -176.25243638   28.03490567   44.53290202\n",
            "  181.04617003   78.76225869 -116.33469007  -88.59352866  -47.96382645\n",
            "   -4.5078426  -170.52672835  177.50174098  112.5550574   -99.00450868\n",
            "  179.87584522   55.77317952  136.82896655 -118.74868787  -82.38046019\n",
            "   98.78726273  -35.78627122    4.19401789  -11.20950896   17.16797622\n",
            " -193.30615123 -114.73371808   95.41710575   74.00401348  -37.69761765\n",
            "   42.64274154   52.79878037 -261.31654908  222.26717583   90.98267748\n",
            "   94.55636345  -43.42448212 -188.65390081   39.73120351   49.69209139\n",
            "  108.12128183   16.95544885  105.61446004   27.36790937   10.85752442\n",
            "  103.17995137 -159.85486789   63.46307035  107.03920497    6.78405128\n",
            "  116.30732191  214.07982648   56.85983579   52.94591829   38.97992477\n",
            " -252.16289929  -88.48704165  213.19799693 -129.83664971   55.57940331\n",
            "  139.60269679 -109.15151341  293.90049533   72.87040428   27.67365906\n",
            "  -39.25833668   68.06257181 -128.66685125  -45.12586332   16.35241881\n",
            "  -25.90281727    1.05827833   59.67162047  -27.57219559 -171.44543259\n",
            "   45.04561588  -14.42796162  -54.59074837  -95.5893179   -63.27648244\n",
            " -166.25737183  -39.65072407   22.90633644 -249.35307858   -9.27514672]\n"
          ]
        }
      ],
      "source": [
        "print(X) #feature values\n",
        "print(len(X[0]))\n",
        "print(len(X))\n",
        "print(t) # target values\n",
        "#plt.scatter(X,t)\n",
        "\n",
        "# t - a simple array\n",
        "# X - is a matrix with 100 lines and 1 column"
      ]
    },
    {
      "cell_type": "markdown",
      "metadata": {
        "id": "5DGOLlsAWb3K"
      },
      "source": [
        "Now is the time to solve the Linear Regression problem with numpy.\n",
        "\n",
        "Remember the problem we need to solve:\n",
        "\n",
        "$$\\mathop{\\text{minimize} }_\\alpha \\|X\\alpha - y\\|^2$$\n",
        "\n",
        "where\n",
        "$X\\in \\mathbb{R}^{N \\times (d+1)}$ is the augmented data matrix such that each line $i$ is $x_i = (x_{i1} \\; 1)$, containing the features of example $i$.\n",
        "\n",
        "**Q:** Create matrix $X$ and vector $y$."
      ]
    },
    {
      "cell_type": "code",
      "source": [
        "matrix_of_ones = np.ones((X.shape[0], 1)) # matrix filled with ones\n",
        "\n",
        "augmented_matrix = np.hstack((X, matrix_of_ones)) # let's add to our original matrix the one with ones as a collumn\n",
        "\n",
        "print(augmented_matrix)\n",
        "\n",
        "y = t\n",
        "\n",
        "print(y)\n"
      ],
      "metadata": {
        "id": "H56RuuU8afQ8",
        "colab": {
          "base_uri": "https://localhost:8080/"
        },
        "outputId": "0c506f25-fa7c-46c4-bacc-0b04c48c53bd"
      },
      "execution_count": 6,
      "outputs": [
        {
          "output_type": "stream",
          "name": "stdout",
          "text": [
            "[[ 0.77459632  1.        ]\n",
            " [-0.22207749  1.        ]\n",
            " [-1.0502867   1.        ]\n",
            " [ 0.13213549  1.        ]\n",
            " [-0.52866866  1.        ]\n",
            " [ 0.48784703  1.        ]\n",
            " [-1.07561746  1.        ]\n",
            " [-0.10872782  1.        ]\n",
            " [ 0.14364008  1.        ]\n",
            " [ 2.78938236  1.        ]\n",
            " [ 1.53683284  1.        ]\n",
            " [-0.49041518  1.        ]\n",
            " [-0.39828711  1.        ]\n",
            " [-0.07490994  1.        ]\n",
            " [-1.06572956  1.        ]\n",
            " [-1.2396598   1.        ]\n",
            " [-0.72838089  1.        ]\n",
            " [ 0.14957682  1.        ]\n",
            " [-0.21486145  1.        ]\n",
            " [ 1.05030472  1.        ]\n",
            " [ 0.87181784  1.        ]\n",
            " [ 0.33314796  1.        ]\n",
            " [-0.12968101  1.        ]\n",
            " [ 1.86421525  1.        ]\n",
            " [ 1.12712353  1.        ]\n",
            " [ 1.50430213  1.        ]\n",
            " [ 0.21775065  1.        ]\n",
            " [ 0.34666859  1.        ]\n",
            " [ 0.42070047  1.        ]\n",
            " [-0.25423526  1.        ]\n",
            " [ 0.25691868  1.        ]\n",
            " [-0.27966728  1.        ]\n",
            " [ 0.93696877  1.        ]\n",
            " [-0.41575082  1.        ]\n",
            " [ 1.45877694  1.        ]\n",
            " [ 0.52662455  1.        ]\n",
            " [-1.7071908   1.        ]\n",
            " [-1.45149248  1.        ]\n",
            " [ 0.52407047  1.        ]\n",
            " [ 0.46523936  1.        ]\n",
            " [ 0.64044768  1.        ]\n",
            " [-0.6070309   1.        ]\n",
            " [-0.53188293  1.        ]\n",
            " [-0.31435861  1.        ]\n",
            " [ 0.03279978  1.        ]\n",
            " [ 1.32752989  1.        ]\n",
            " [-1.40714417  1.        ]\n",
            " [ 0.10238807  1.        ]\n",
            " [ 0.25894873  1.        ]\n",
            " [-0.73562259  1.        ]\n",
            " [-1.25131304  1.        ]\n",
            " [-1.28782481  1.        ]\n",
            " [-1.22627812  1.        ]\n",
            " [-1.33137336  1.        ]\n",
            " [-0.39996591  1.        ]\n",
            " [ 0.1822927   1.        ]\n",
            " [ 0.43272941  1.        ]\n",
            " [-0.89336164  1.        ]\n",
            " [ 0.56259607  1.        ]\n",
            " [-0.43048863  1.        ]\n",
            " [ 2.20744783  1.        ]\n",
            " [ 1.07857604  1.        ]\n",
            " [ 0.34699964  1.        ]\n",
            " [-1.22538822  1.        ]\n",
            " [-0.88730704  1.        ]\n",
            " [-0.9343596   1.        ]\n",
            " [ 0.33211266  1.        ]\n",
            " [-0.11083816  1.        ]\n",
            " [ 2.06107275  1.        ]\n",
            " [-0.60247022  1.        ]\n",
            " [-1.22528711  1.        ]\n",
            " [ 0.33052148  1.        ]\n",
            " [-0.64204052  1.        ]\n",
            " [-1.5613287   1.        ]\n",
            " [ 0.64475253  1.        ]\n",
            " [ 0.9590976   1.        ]\n",
            " [-0.03648619  1.        ]\n",
            " [ 0.28577627  1.        ]\n",
            " [ 0.08967247  1.        ]\n",
            " [ 0.15073723  1.        ]\n",
            " [-0.41871755  1.        ]\n",
            " [-1.53441274  1.        ]\n",
            " [-0.63065781  1.        ]\n",
            " [-0.42733585  1.        ]\n",
            " [-0.67949514  1.        ]\n",
            " [ 0.53979027  1.        ]\n",
            " [-0.01405614  1.        ]\n",
            " [-0.70700121  1.        ]\n",
            " [-0.09043997  1.        ]\n",
            " [ 0.53554074  1.        ]\n",
            " [-0.29377645  1.        ]\n",
            " [-0.505595    1.        ]\n",
            " [ 0.89170924  1.        ]\n",
            " [-0.9080855   1.        ]\n",
            " [-2.26510318  1.        ]\n",
            " [ 0.28260874  1.        ]\n",
            " [-1.01934899  1.        ]\n",
            " [ 1.07077073  1.        ]\n",
            " [-1.00623913  1.        ]\n",
            " [ 0.99569444  1.        ]]\n",
            "[  66.39301252  -10.64491849  -62.02690198   21.57704428  -40.45160898\n",
            "   13.3669019   -72.40734268    3.52515505    3.26401643  131.23650373\n",
            "   75.53411241  -28.18528532  -19.97273467   35.00329156  -40.15575955\n",
            "  -66.1631609   -57.34424113   34.66239662  -22.79771757   61.41584005\n",
            "   57.72832731   30.66255594    6.92387683   77.01200618   58.57420984\n",
            "   89.45811864   -8.39859865   23.3053051    20.05011882    1.60404512\n",
            "   23.74889504  -27.43383713   50.38170617  -33.08666574  101.88182314\n",
            "   45.43191894  -95.97839808  -52.10308079   33.19919794   15.73000682\n",
            "   56.20814012  -30.0470668   -47.81878399  -17.18580698   18.03861388\n",
            "   77.70534815  -71.06830763   14.65031251    4.94835251  -48.07179982\n",
            "  -78.79094934  -49.65695515  -67.38670594  -42.10471728  -27.12740922\n",
            "    0.54971289    0.87684404  -35.57287375   47.76183079  -35.97066447\n",
            "  110.83213589   44.10906994   25.50015602  -74.81789082  -68.33243149\n",
            "  -51.89739774    6.25176447    1.24865066  113.87862431  -35.32553762\n",
            "  -88.67119709    9.63449772  -49.88331233  -91.26452827   51.85328555\n",
            "   45.51086965  -12.39037876   -9.18943925   27.8371063    21.62160221\n",
            "  -30.74026734  -79.81230778  -20.27729041  -17.20791653  -32.35573139\n",
            "   36.90926717    9.25455743  -22.02642014  -18.87492111   10.45551752\n",
            "  -14.81151692  -40.37553341   51.14306838  -46.7871775  -112.60735129\n",
            "   30.17345323  -42.28613536   36.15112421  -85.5753       54.64310012]\n"
          ]
        }
      ]
    },
    {
      "cell_type": "markdown",
      "source": [
        "\n",
        "**Q:** Identify the optimization variable of the problem.\n",
        "\n",
        "This is a (convex) quadratic problem. To solve it, we simply differentiate it, obtaining the gradient, and equate the gradient to zero, obtaining\n",
        "\n",
        "$$ X^T(X\\alpha-y)=0.$$\n",
        "\n",
        "By solving this equation with respect to $w$ we get\n",
        "$$\\alpha = (X^TX)^{-1} X^Ty.$$\n",
        "\n",
        "In Numpy, check how to do matrix multiplication and how to compute the inverse of a matrix. Read the documentation of [pinv](https://numpy.org/doc/stable/reference/generated/numpy.linalg.pinv.html), [matmul](https://numpy.org/doc/stable/reference/generated/numpy.matmul.html) and [dot](https://numpy.org/doc/stable/reference/generated/numpy.dot.html) to start.\n",
        "\n",
        "\n",
        "**Q:** Using the above identity, compute the regression weights $\\alpha$.\n",
        "\n"
      ],
      "metadata": {
        "id": "NmCkKbyAac98"
      }
    },
    {
      "cell_type": "code",
      "execution_count": 11,
      "metadata": {
        "id": "4DItyimfWb3K",
        "colab": {
          "base_uri": "https://localhost:8080/"
        },
        "outputId": "358991c6-ca79-4255-abeb-31c70702b3b4"
      },
      "outputs": [
        {
          "output_type": "stream",
          "name": "stdout",
          "text": [
            "[[ 85.50272173  -5.31680097]\n",
            " [ -5.31680097 100.        ]]\n",
            "[4559.12560204 -244.04488254]\n",
            "[[0.01173433 0.00062389]\n",
            " [0.00062389 0.01003317]]\n",
            "[53.34602433  0.39585312]\n"
          ]
        }
      ],
      "source": [
        "X_transposed = augmented_matrix.T\n",
        "#print(X_transposed)\n",
        "\n",
        "XTX = np.dot(X_transposed,augmented_matrix)\n",
        "print(XTX)\n",
        "\n",
        "XTy = np.dot(X_transposed,y)\n",
        "print(XTy)\n",
        "\n",
        "XTX_inv = np.linalg.inv(XTX)\n",
        "print(XTX_inv)\n",
        "\n",
        "right_most = np.matmul(X_transposed,y)\n",
        "left_most = np.matmul(X_transposed,augmented_matrix)\n",
        "left_most = np.linalg.inv(left_most)\n",
        "\n",
        "alpha = np.matmul(left_most,right_most)\n",
        "\n",
        "#alpha = np.dot()\n",
        "\n",
        "print(alpha)\n"
      ]
    },
    {
      "cell_type": "markdown",
      "metadata": {
        "id": "CUPTsmG6Wb3K"
      },
      "source": [
        "**Q:** Visualize the quality of the fit by superposing the learned model to the data with matplotlib.\n",
        "\n",
        "*Tip*: you can get the extreme values of the xaxis with `X.min()` and `X.max()`. To visualize the model, you just need to plot a line between the points `(X.min(), a[0]*X.min()+a[1])` and `(X.max(), a[0]*X.max()+a[1])`."
      ]
    },
    {
      "cell_type": "code",
      "execution_count": null,
      "metadata": {
        "id": "nJq2Bu6PWb3K",
        "colab": {
          "base_uri": "https://localhost:8080/",
          "height": 550
        },
        "outputId": "3aa24063-a4a9-453d-fa68-7240cfac6462"
      },
      "outputs": [
        {
          "output_type": "display_data",
          "data": {
            "text/plain": [
              "<Figure size 640x480 with 1 Axes>"
            ],
            "image/png": "[encoded data removed]"
          },
          "metadata": {}
        },
        {
          "output_type": "execute_result",
          "data": {
            "text/plain": [
              "' \\nCertainly, let me explain why the two points `([y_min, y_min], [y_max, y_max])` work for plotting the ideal relationship line `y = x`:\\n\\n1. `([y_min, y_min])`: These are the x-coordinates for the line. Both x-coordinates are set to the minimum actual value, `y_min`. \\n\\n2. `([y_max, y_max])`: These are the y-coordinates for the line. Both y-coordinates are set to the maximum actual value, `y_max`.\\n\\nThe reason these points work is because they create a diagonal line with a slope of 1 (45-degree angle) that passes through the origin (0, 0). Here\\'s why:\\n\\n- `([y_min, y_min], [y_max, y_max])` represents a line where the x-coordinate and y-coordinate are always equal to each other. In other words, for any value `x`, the corresponding value of `y` is the same. This is precisely what `y = x` represents, where the values of `y` and `x` are identical.\\n\\n- The line `[y_min, y_min]` to `[y_max, y_max]` starts at the point `(y_min, y_min)` and ends at the point `(y_max, y_max)`. This line represents a perfect one-to-one relationship between the actual values (`y`) and the predicted values (`y_hat`). In an ideal scenario, the predicted values should match the actual values perfectly, which is why this line is considered the \"ideal relationship.\"\\n\\n- This diagonal line ensures that, for any value on the x-axis (actual values), the corresponding value on the y-axis (predicted values) is the same. This is the essence of a perfect prediction, where every point on the line represents a case where the predicted value equals the actual value.\\n\\nIn summary, these two points and the resulting line `[y_min, y_min]` to `[y_max, y_max]` represent the ideal scenario where the predicted values (`y_hat`) perfectly match the actual values (`y`) for all data points, forming a diagonal line with a slope of 1.\\n\\n'"
            ],
            "application/vnd.google.colaboratory.intrinsic+json": {
              "type": "string"
            }
          },
          "metadata": {},
          "execution_count": 102
        }
      ],
      "source": [
        "# alpha da-nos os coeficientes a serem usados na nossa função y = ax + b\n",
        "\n",
        "# Create a linear function using the minimum and maximum x-values\n",
        "x_min = X.min()\n",
        "x_max = X.max()\n",
        "y_min = alpha[0] * x_min + alpha[1]\n",
        "y_max = alpha[0] * x_max + alpha[1]\n",
        "\n",
        "# Create linear x and y values for the line\n",
        "linear_x = np.array([x_min, x_max])\n",
        "linear_y = np.array([y_min, y_max])\n",
        "\n",
        "X_reg = np.linspace(augmented_matrix[:,0].min(),augmented_matrix[:,0].max(),300)\n",
        "\n",
        "Y_reg = np.polyval(alpha,X_reg)\n",
        "\n",
        "plt.figure()\n",
        "plt.scatter(X,t)\n",
        "plt.plot(X_reg,Y_reg)\n",
        "plt.plot(linear_x,linear_y, marker='o', linestyle='-')\n",
        "plt.show()\n",
        "plt.close()\n"
      ]
    },
    {
      "cell_type": "markdown",
      "metadata": {
        "id": "GNNeNUwTWb3K"
      },
      "source": [
        "Another option is to predict a value for all inputs and plot this vector $\\hat{y}$ against the desired values $y$.\n",
        "\n",
        "**Q:** Make a scatter plot where $y$ is the x-axis and $\\hat{y} = \\alpha[0]\\, x + \\alpha[1]$ is the y-axis. How should the points be arranged in the ideal case? Also plot what this ideal relationship should be."
      ]
    },
    {
      "cell_type": "code",
      "execution_count": null,
      "metadata": {
        "id": "qpUuIPoEWb3K",
        "colab": {
          "base_uri": "https://localhost:8080/",
          "height": 569
        },
        "outputId": "7614fd9d-6d50-4d55-a4e5-599f678edf4f"
      },
      "outputs": [
        {
          "output_type": "display_data",
          "data": {
            "text/plain": [
              "<Figure size 640x480 with 1 Axes>"
            ],
            "image/png": "[encoded data removed]"
          },
          "metadata": {}
        },
        {
          "output_type": "execute_result",
          "data": {
            "text/plain": [
              "' \\nCertainly, let me explain why the two points `([y_min, y_min], [y_max, y_max])` work for plotting the ideal relationship line `y = x`:\\n\\n1. `([y_min, y_min])`: These are the x-coordinates for the line. Both x-coordinates are set to the minimum actual value, `y_min`. \\n\\n2. `([y_max, y_max])`: These are the y-coordinates for the line. Both y-coordinates are set to the maximum actual value, `y_max`.\\n\\nThe reason these points work is because they create a diagonal line with a slope of 1 (45-degree angle) that passes through the origin (0, 0). Here\\'s why:\\n\\n- `([y_min, y_min], [y_max, y_max])` represents a line where the x-coordinate and y-coordinate are always equal to each other. In other words, for any value `x`, the corresponding value of `y` is the same. This is precisely what `y = x` represents, where the values of `y` and `x` are identical.\\n\\n- The line `[y_min, y_min]` to `[y_max, y_max]` starts at the point `(y_min, y_min)` and ends at the point `(y_max, y_max)`. This line represents a perfect one-to-one relationship between the actual values (`y`) and the predicted values (`y_hat`). In an ideal scenario, the predicted values should match the actual values perfectly, which is why this line is considered the \"ideal relationship.\"\\n\\n- This diagonal line ensures that, for any value on the x-axis (actual values), the corresponding value on the y-axis (predicted values) is the same. This is the essence of a perfect prediction, where every point on the line represents a case where the predicted value equals the actual value.\\n\\nIn summary, these two points and the resulting line `[y_min, y_min]` to `[y_max, y_max]` represent the ideal scenario where the predicted values (`y_hat`) perfectly match the actual values (`y`) for all data points, forming a diagonal line with a slope of 1.\\n\\n'"
            ],
            "application/vnd.google.colaboratory.intrinsic+json": {
              "type": "string"
            }
          },
          "metadata": {},
          "execution_count": 103
        }
      ],
      "source": [
        "y_hat = alpha[0] * X + alpha[1]\n",
        "\n",
        "plt.figure()\n",
        "plt.scatter(y, y_hat, label='Scatter Plot')\n",
        "\n",
        "# Plot the ideal relationship line (y = y_hat)\n",
        "plt.plot([y.min(), y.max()], [y.min(), y.max()], marker='o', label='Ideal Relationship', linestyle='--')\n",
        "\n",
        "plt.xlabel('Actual Values (y)')\n",
        "plt.ylabel('Predicted Values (y_hat)')\n",
        "plt.legend()\n",
        "plt.show()\n",
        "\n",
        "\n",
        "\n",
        "'''\n",
        "Certainly, let me explain why the two points `([y_min, y_min], [y_max, y_max])` work for plotting the ideal relationship line `y = x`:\n",
        "\n",
        "1. `([y_min, y_min])`: These are the x-coordinates for the line. Both x-coordinates are set to the minimum actual value, `y_min`.\n",
        "\n",
        "2. `([y_max, y_max])`: These are the y-coordinates for the line. Both y-coordinates are set to the maximum actual value, `y_max`.\n",
        "\n",
        "The reason these points work is because they create a diagonal line with a slope of 1 (45-degree angle) that passes through the origin (0, 0). Here's why:\n",
        "\n",
        "- `([y_min, y_min], [y_max, y_max])` represents a line where the x-coordinate and y-coordinate are always equal to each other. In other words, for any value `x`, the corresponding value of `y` is the same. This is precisely what `y = x` represents, where the values of `y` and `x` are identical.\n",
        "\n",
        "- The line `[y_min, y_min]` to `[y_max, y_max]` starts at the point `(y_min, y_min)` and ends at the point `(y_max, y_max)`. This line represents a perfect one-to-one relationship between the actual values (`y`) and the predicted values (`y_hat`). In an ideal scenario, the predicted values should match the actual values perfectly, which is why this line is considered the \"ideal relationship.\"\n",
        "\n",
        "- This diagonal line ensures that, for any value on the x-axis (actual values), the corresponding value on the y-axis (predicted values) is the same. This is the essence of a perfect prediction, where every point on the line represents a case where the predicted value equals the actual value.\n",
        "\n",
        "In summary, these two points and the resulting line `[y_min, y_min]` to `[y_max, y_max]` represent the ideal scenario where the predicted values (`y_hat`) perfectly match the actual values (`y`) for all data points, forming a diagonal line with a slope of 1.\n",
        "\n",
        "'''\n",
        "\n"
      ]
    },
    {
      "cell_type": "markdown",
      "metadata": {
        "id": "FF0cBZNTWb3K"
      },
      "source": []
    },
    {
      "cell_type": "markdown",
      "metadata": {
        "id": "BwrCPZsNWb3K"
      },
      "source": [
        "## Scikit-learn\n",
        "\n",
        "The code that you have written is functional, but extremely slow, as you use for loops in Python. For so little data samples, it does not make a difference, but if you had millions of samples, this would start to be a problem.\n",
        "\n",
        "The solution is to use optimized implementations of the algorithms, running in C++ or FORTRAN under the hood. We will use here the LMS algorithm provided by `scikit-learn` as you have already installed it and it is very simple to use. Note that one could use tensorflow too, but that would be killing a fly with a sledgehammer.\n",
        "\n",
        "`scikit-learn` provides a `LinearRegression` object that implements the training procedure above. The documentation is at: <https://scikit-learn.org/stable/modules/generated/sklearn.linear_model.LinearRegression.html>.\n",
        "\n",
        "You simply import it with:\n",
        "\n",
        "```python\n",
        "from sklearn.linear_model import LinearRegression\n",
        "```\n",
        "\n",
        "You create the object with:\n",
        "\n",
        "```python\n",
        "reg = LinearRegression()\n",
        "```\n",
        "\n",
        "`reg` is now an object with different methods (`fit()`, `predict()`) that accept any kind of data and performs linear regression.\n",
        "\n",
        "To train the model on the data $(X, y)$, simply use:\n",
        "\n",
        "```python\n",
        "reg.fit(X, y)\n",
        "```\n",
        "\n",
        "The parameters of the model are obtained with `reg.coef_` for $w[0]$ and `reg.intercept_` for $w[1]$.\n",
        "\n",
        "You can predict outputs for new inputs using:\n",
        "\n",
        "```python\n",
        "y = reg.predict(X)\n",
        "```\n",
        "\n",
        "**Q:** Apply linear regression on the data using `scikit-learn`. Check the model parameters after learning and compare them to what you obtained previously. Print the mse and make a plot comparing the predictions with the data."
      ]
    },
    {
      "cell_type": "code",
      "execution_count": 12,
      "metadata": {
        "id": "XRcQNV0hWb3K",
        "outputId": "72ea848d-a2aa-4f59-da42-ef757f64a266",
        "colab": {
          "base_uri": "https://localhost:8080/",
          "height": 540
        }
      },
      "outputs": [
        {
          "output_type": "stream",
          "name": "stdout",
          "text": [
            "Model parameters (scikit-learn):\n",
            "alpha: 53.346024334440926\n",
            "beta: 0.3958531160306453\n",
            "Mean Squared Error (MSE) using scikit-learn: 196.92996407459898\n"
          ]
        },
        {
          "output_type": "display_data",
          "data": {
            "text/plain": [
              "<Figure size 640x480 with 1 Axes>"
            ],
            "image/png": "[encoded data removed]"
          },
          "metadata": {}
        }
      ],
      "source": [
        "from sklearn.datasets import make_regression\n",
        "from sklearn.linear_model import LinearRegression\n",
        "from sklearn.metrics import mean_squared_error\n",
        "reg = LinearRegression()\n",
        "# Even tough we are using the scikit we still need to feed date to X and y\n",
        "reg.fit(X, y)\n",
        "alpha_sklearn = reg.coef_[0] # cause the alpha is stored in an array, is alpha the a in ax + b?\n",
        "beta_sklearn = reg.intercept_ # wtf is beta? is the the b in ax + b?\n",
        "\n",
        "# Print the model parameters\n",
        "print(\"Model parameters (scikit-learn):\")\n",
        "print(\"alpha:\", alpha_sklearn)\n",
        "print(\"beta:\", beta_sklearn)\n",
        "\n",
        "y_predicted_sklearn = reg.predict(X) # the values predicted\n",
        "\n",
        "# Calculate the Mean Squared Error (MSE)\n",
        "mse_sklearn = mean_squared_error(y, y_predicted_sklearn) # the error between the predictions and the expectation\n",
        "print(\"Mean Squared Error (MSE) using scikit-learn:\", mse_sklearn)\n",
        "plt.scatter(X, y, label='Data Points')\n",
        "plt.plot(X, y_predicted_sklearn, color='red', label='Predictions', linewidth=2)\n",
        "plt.xlabel('X')\n",
        "plt.ylabel('y')\n",
        "plt.title('Linear Regression Fit (scikit-learn)')\n",
        "plt.legend()\n",
        "plt.show()"
      ]
    }
  ],
  "metadata": {
    "kernelspec": {
      "display_name": "Python 3",
      "language": "python",
      "name": "python3"
    },
    "language_info": {
      "codemirror_mode": {
        "name": "ipython",
        "version": 3
      },
      "file_extension": ".py",
      "mimetype": "text/x-python",
      "name": "python",
      "nbconvert_exporter": "python",
      "pygments_lexer": "ipython3",
      "version": "3.8.5"
    },
    "colab": {
      "provenance": [],
      "include_colab_link": true
    }
  },
  "nbformat": 4,
  "nbformat_minor": 0
}